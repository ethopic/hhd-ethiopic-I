{
  "nbformat": 4,
  "nbformat_minor": 0,
  "metadata": {
    "colab": {
      "provenance": [],
      "gpuType": "T4",
      "authorship_tag": "ABX9TyMYTRC3XrbVTTazWSdRpnU3",
      "include_colab_link": true
    },
    "kernelspec": {
      "name": "python3",
      "display_name": "Python 3"
    },
    "language_info": {
      "name": "python"
    },
    "accelerator": "GPU"
  },
  "cells": [
    {
      "cell_type": "markdown",
      "metadata": {
        "id": "view-in-github",
        "colab_type": "text"
      },
      "source": [
        "<a href=\"https://colab.research.google.com/github/ethopic/hhd-ethiopic-I/blob/main/tesseract_test.ipynb\" target=\"_parent\"><img src=\"https://colab.research.google.com/assets/colab-badge.svg\" alt=\"Open In Colab\"/></a>"
      ]
    },
    {
      "cell_type": "code",
      "source": [
        "from google.colab import drive\n",
        "import os\n",
        "# Mount your Google Drive\n",
        "drive.mount('/content/drive')"
      ],
      "metadata": {
        "colab": {
          "base_uri": "https://localhost:8080/"
        },
        "id": "pZQDRa3EM8ne",
        "outputId": "7760182d-9f95-46d2-c01b-fc60f2608477"
      },
      "execution_count": null,
      "outputs": [
        {
          "output_type": "stream",
          "name": "stdout",
          "text": [
            "Drive already mounted at /content/drive; to attempt to forcibly remount, call drive.mount(\"/content/drive\", force_remount=True).\n"
          ]
        }
      ]
    },
    {
      "cell_type": "code",
      "source": [
        "\n",
        "# Install Tesseract\n",
        "!apt-get install tesseract-ocr-amh\n",
        "!apt-get install tesseract-ocr\n",
        "\n",
        "# Install the Python libraries\n",
        "!pip install pytesseract\n",
        "!pip install opencv-python\n",
        "\n"
      ],
      "metadata": {
        "id": "h5k7i10MMbfw"
      },
      "execution_count": null,
      "outputs": []
    },
    {
      "cell_type": "code",
      "source": [
        "import cv2\n",
        "import pytesseract\n",
        "import os\n",
        "# os.environ['TESSDATA_PREFIX'] = '/content/drive/MyDrive/HHD_ethiopic/sample test/'"
      ],
      "metadata": {
        "id": "392JhTmFWfIm"
      },
      "execution_count": null,
      "outputs": []
    },
    {
      "cell_type": "code",
      "source": [
        "path='/content/drive/MyDrive/HHD_ethiopic/sample test/'"
      ],
      "metadata": {
        "id": "TyFZJ0RaNGEP"
      },
      "execution_count": null,
      "outputs": []
    },
    {
      "cell_type": "code",
      "source": [
        "import glob\n",
        "imagepath = sorted(glob.glob(path + '/*.bin.png'))\n",
        "\n",
        "custom_config = r'--oem 1 --psm 6 -l amh'"
      ],
      "metadata": {
        "id": "oRDUPlPuNNOC"
      },
      "execution_count": null,
      "outputs": []
    },
    {
      "cell_type": "code",
      "source": [
        "for image in imagepath:\n",
        "    image_in = cv2.imread(image)\n",
        "    text = pytesseract.image_to_string(image, config=custom_config)\n",
        "    print(text)"
      ],
      "metadata": {
        "colab": {
          "base_uri": "https://localhost:8080/"
        },
        "id": "U_KxlwnkN0NK",
        "outputId": "39d5b0be-0acf-4de6-e20d-0ec1f93cd356"
      },
      "execution_count": null,
      "outputs": [
        {
          "output_type": "stream",
          "name": "stdout",
          "text": [
            "‹ቺ ኢከኩ-ክጽኩ- ሕክ ፡<ብ-ፋሎ--\n",
            "\f\n",
            "ነፍእኳነስ፡ ትሴ«ራኗሞምጮ -ለ ርቅእ“፦›\n",
            "\f\n",
            "እአፎክቪ8፣4መዒ እ.ኒ . «9.ም፡፡ እ ዌ%.ኙ - የክኔ-'ኳ”ፐ፡ ተ...\n",
            "\f\n",
            "እኣፀስ፡:ዮቱ-ጅትጎት ኢ.=።4ያ፡0.. ኣብ ች‹ሬ=ኔ..\n",
            "\f\n",
            "‹6ሣ ብስ ክኒን - ያእ ሻሚ - - 32. ከ.-ቁ...-\n",
            "\f\n",
            "አትሉንዝ-እኣውዓ‹3ሟ ይ-ምቕ፡፡እቁሮት-ክ-.ሳጓ6ዲነጭኤ-\n",
            "\f\n",
            " ወሰበጃክ።ዐወ፡፡ዳልስሰሊክ-ዛዣ፡፡። ከፎኒኹጭኤ፡--ፅ\n",
            "\f\n",
            "ጳባር፦ኾ፣ዳጸንእዖ›፡ ኦ -ለኅ..‹ ንሮ ጸ--ፒዝዜጭሎ--\n",
            "\f\n",
            "55142ነ4.. ከ-ቪሒ-4:ኳ5-‹ጢ፪3-ከ-ዙ--3ዎ-ኛጐ--\n",
            "\f\n",
            "በእ“ኢስከ\n",
            "\f\n",
            "፥ ሜዓ-ኽ“ከር-፣ኒሂዓግ:ከኛዊጭ--\n",
            "\f\n",
            "ፍ.አነ።8-የ ቕሃኘገ.‹ጪኳዋቐ ጉፌ.ዶ፡፡።-ጭ፦\n",
            "\f\n",
            "እፅል-ብብፍም።ዳ እ፥›ደ እ-ብ-፡.ር፣:ጅ85ከኪሊፍኀጭቭ--\n",
            "\f\n",
            "ኗን ላ 4 6ኔ.፡ከጣ፡ ፡ ሜ በቤ-ፎ-ቺሎኡ-\n",
            "\f\n",
            "“ጫ ኣይፄ ታጅ) 5” -ሲ እጫሁህሮያ አሕ -ብ!»4..፡. ስ--:- ሰጭ ወጊ\n",
            "\f\n",
            "‹በክም።8፡ ያዙ ለ-፡ኙጐ፡፡ ዣ %ጁ ቢኛ፣አፍ-ኳኘ እኳፍቅ፦-\n",
            "\f\n",
            "ዓ- ረጽ-ንሲህ--‹8ኞ ከያ:ነያ - ለርመበ--2----\n",
            "\f\n",
            "ርክ . ፍ-ሩፈ ጫዷር:.  ዝ=ጽጥጽ ዝቼ‹በክ-ጭ፦--\n",
            "\f\n",
            "ዘዝኘ-።:፣ዊሎፍ-ሮጀሒ፣ብበ'ሥ\n",
            "\f\n",
            "ና‹ነ'ልኣቸ። እሎ ጸ-:።>።5ፕጄጪካህ--:ዴኛ- ፍትኝ” ጋው\n",
            "\f\n",
            "ፍ-ችጭዓኛ”7.:9ዉመጸአጸክ = “|!\n",
            "\f\n"
          ]
        }
      ]
    },
    {
      "cell_type": "code",
      "source": [
        "gt=['ወይሴስዮሙ፡እመ፡ረኃብ', 'ነፍስነስ፡ትሴፈዎ፡ለእግዚያብሔር', 'እስመ፡ረጻኢነ፡ወምስይነ፡ወእቱ', 'እስመ፡ቦቱ፡ይትፌሣሕ፡ልብነ', 'ወተወስልነ፡በስሙ፡ቅዱስ', 'በትኩን፡እግዚኦ፡ምሕረትከ፡ባዕሊነ', 'ወበስመ፡ሳዕሊከ፡ተወከልነ', 'እባርኮ፡ለእግዚአብሔር፡በኩሉ፡ጊዜ', 'ወዘልፈ፡ስብሐቲሁ፡ውስተ፡እፋየ', 'በእግዚያብሔር', 'ትከብር፡ነፍስየ', 'ይስምዑ፡የዋሃገ፡ወይትፌሥሐ', 'አዕብይዎ፡ለእግዚያብሔር፡ምስሌየ', 'ወናልዕል፡ስሞ፡ኀቡረ', 'ኃሠሥክዎ፡ለእግዚያብሔር፡ወተሰጥወኒ', 'ወእምኩሉ፡ምንዳቤየ፡አድኃኖ', 'ቅረቡ፡ኀቤሁ፡ወያ በርህ፡ለከሙ', 'ወአይትኃፈር፡ገጸክሙ', 'ዘንቱ፡ነዳይ፡ጸርሐ፡ወእ', 'ወእምኩሉ፡ምንዳቤሁ፡አድኃኖ', 'ይትዓየን፡መላከ፡እግዚያብሔር']"
      ],
      "metadata": {
        "id": "_SsW0QUTTi6f"
      },
      "execution_count": 3,
      "outputs": []
    },
    {
      "cell_type": "code",
      "source": [
        "pred_tesseract=['‹ቺ ኢከኩ-ክጽኩ- ሕክ ፡<ብ-ፋሎ--','ነፍእኳነስ፡ ትሴ«ራኗሞምጮ -ለ ርቅእ“፦›',\n",
        "'እአፎክቪ8፣4መዒ እ.ኒ . «9.ም፡፡ እ ዌ%.ኙ - የክኔ-ኳ”ፐ፡ ተ...', 'እኣፀስ፡:ዮቱ-ጅትጎት ኢ.=።4ያ፡0.. ኣብ ች‹ሬ=ኔ..',\n",
        "'‹6ሣ ብስ ክኒን - ያእ ሻሚ - - 32. ከ.-ቁ...-',\n",
        "'አትሉንዝ-እኣውዓ‹3ሟ ይ-ምቕ፡፡እቁሮት-ክ-.ሳጓ6ዲነጭኤ-',\n",
        "'ወሰበጃክ።ዐወ፡፡ዳልስሰሊክ-ዛዣ፡፡። ከፎኒኹጭኤ፡--ፅ',\n",
        "'ጳባር፦ኾ፣ዳጸንእዖ›፡ ኦ -ለኅ..‹ ንሮ ጸ--ፒዝዜጭሎ--',\n",
        "'55142ነ4.. ከ-ቪሒ-4:ኳ5-‹ጢ፪3-ከ-ዙ--3ዎ-ኛጐ--',\n",
        "'በእ“ኢስከ',\n",
        "'፥ ሜዓ-ኽ“ከር-፣ኒሂዓግ:ከኛዊጭ--',\n",
        "'ፍ.አነ።8-የ ቕሃኘገ.‹ጪኳዋቐ ጉፌ.ዶ፡፡።-ጭ፦',\n",
        "'እፅል-ብብፍም።ዳ እ፥›ደ እ-ብ-፡.ር፣:ጅ85ከኪሊፍኀጭቭ--',\n",
        "'ኗን ላ 4 6ኔ.፡ከጣ፡ ፡ ሜ በቤ-ፎ-ቺሎኡ-',\n",
        "'“ጫ ኣይፄ ታጅ) 5” -ሲ እጫሁህሮያ አሕ -ብ!»4..፡. ስ--:- ሰጭ ወጊ',\n",
        "'‹በክም።8፡ ያዙ ለ-፡ኙጐ፡፡ ዣ %ጁ ቢኛ፣አፍ-ኳኘ እኳፍቅ፦-',\n",
        "'ዓ- ረጽ-ንሲህ--‹8ኞ ከያ:ነያ - ለርመበ--2----',\n",
        "'ርክ . ፍ-ሩፈ ጫዷር:.  ዝ=ጽጥጽ ዝቼ‹በክ-ጭ፦--',\n",
        "'ዘዝኘ-።:፣ዊሎፍ-ሮጀሒ፣ብበ ሥ',\n",
        "'ና‹ነ ልኣቸ። እሎ ጸ-:።>።5ፕጄጪካህ--:ዴኛ- ፍትኝ” ጋው',\n",
        "'ፍ-ችጭዓኛ”7.:9ዉመጸአጸክ = “|!]']"
      ],
      "metadata": {
        "id": "NzeOc4wzTtcZ"
      },
      "execution_count": 1,
      "outputs": []
    },
    {
      "cell_type": "code",
      "source": [
        "import editdistance\n",
        "cer=0\n",
        "for(i,j) in zip(gt,pred_tesseract):\n",
        "    x=editdistance.eval(i,j)\n",
        "    cer=cer+x\n",
        "err=cer\n",
        "x=0\n",
        "for i in range(len(gt)):\n",
        "    x=x+len(gt[i])\n",
        "totalchar=x\n",
        "cerp=(float(err)/totalchar)*100\n",
        "print(\"The CER of sample_page test set:\", cerp)"
      ],
      "metadata": {
        "colab": {
          "base_uri": "https://localhost:8080/"
        },
        "id": "3ivDwmnvVP1z",
        "outputId": "c2fcf87c-cb7a-4496-e2b7-cf2bce9f3d65"
      },
      "execution_count": 4,
      "outputs": [
        {
          "output_type": "stream",
          "name": "stdout",
          "text": [
            "The CER of sample_page test set: 180.06042296072508\n"
          ]
        }
      ]
    }
  ]
}